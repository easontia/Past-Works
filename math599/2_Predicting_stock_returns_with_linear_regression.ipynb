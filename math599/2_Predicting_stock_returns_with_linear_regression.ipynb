version https://git-lfs.github.com/spec/v1
oid sha256:f9d55124f93ad2ba5f057759baf7773d9b7bf933fbc3c0eb836f58071d1ac8df
size 39780
