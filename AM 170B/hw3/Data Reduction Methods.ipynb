version https://git-lfs.github.com/spec/v1
oid sha256:92b090340dd59381f17a7dcb60fc8ee264c29c5eecfb26acb8a64ddac453e1cf
size 882490
