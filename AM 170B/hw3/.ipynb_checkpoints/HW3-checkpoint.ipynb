version https://git-lfs.github.com/spec/v1
oid sha256:d98261e697721633e1a1e04c31b7fc8084a61e1f3a81793835c30b08b0f398b9
size 796503
