version https://git-lfs.github.com/spec/v1
oid sha256:50d93707242254d050eb3be7d582132b2d31a0f6e57aab9ade2eeb72512e314f
size 991400
