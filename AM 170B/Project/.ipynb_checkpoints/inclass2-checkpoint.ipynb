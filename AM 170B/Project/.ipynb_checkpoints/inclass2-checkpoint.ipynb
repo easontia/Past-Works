version https://git-lfs.github.com/spec/v1
oid sha256:342ffd06eae7da3c14626e5a3f68449303528eb55cd0625988ae4f604af0dfe6
size 83517
